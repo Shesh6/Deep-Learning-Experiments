{
  "nbformat": 4,
  "nbformat_minor": 0,
  "metadata": {
    "colab": {
      "name": "BeatLM: A Beatles Language Model.ipynb",
      "provenance": [],
      "toc_visible": true,
      "authorship_tag": "ABX9TyMxRGOtPuq2JkxTM2nuPzqp"
    },
    "kernelspec": {
      "name": "python3",
      "display_name": "Python 3"
    },
    "accelerator": "GPU"
  },
  "cells": [
    {
      "cell_type": "markdown",
      "metadata": {
        "id": "mYK7RiHDhAIy",
        "colab_type": "text"
      },
      "source": [
        "### BeatLM: A Beatles Song Classifier and Generator\n",
        "_Yoav Rabinovich, May 2020_\n",
        "\n",
        "-------------------------------------"
      ]
    },
    {
      "cell_type": "markdown",
      "metadata": {
        "id": "bNQmzqiUhLwm",
        "colab_type": "text"
      },
      "source": [
        "Using Transfer Learning to classify Beatles songs by songwriter, inspired by ULMFiT and using the fastai library. Data-set of Beatles lyrics from GitHub user [EugenHotaj](https://github.com/EugenHotaj).\n",
        "\n",
        "An RNN language model pre-trained on WikiText-103 is fine-tuned on the dataset, and then used as an encoder for text classification of songwriters from lyrics. The model doesn't achieve high accuracy, probably due to the over-represented class of songs credited to the Lennon & McCartney partnership, but despite its prevalence, the model does correctly classify some solo work to Harrison and Lennon. The language model intermediary step also serves as a nifty beatles song generator!"
      ]
    },
    {
      "cell_type": "code",
      "metadata": {
        "id": "YwVp0WZ1gzd6",
        "colab_type": "code",
        "colab": {}
      },
      "source": [
        "from fastai.text import *"
      ],
      "execution_count": 0,
      "outputs": []
    },
    {
      "cell_type": "code",
      "metadata": {
        "id": "9cAOxYFrhl0l",
        "colab_type": "code",
        "colab": {
          "base_uri": "https://localhost:8080/",
          "height": 204
        },
        "outputId": "16c952a5-e493-4a0b-f24f-4c157b9ea22f"
      },
      "source": [
        "url = \"https://raw.githubusercontent.com/EugenHotaj/beatles/master/dataset.txt\"\n",
        "df = pd.read_csv(url, header=None, sep='\\t')\n",
        "df.columns = [\"title\",\"writer\",\"lyrics\"]\n",
        "df.head()"
      ],
      "execution_count": 2,
      "outputs": [
        {
          "output_type": "execute_result",
          "data": {
            "text/html": [
              "<div>\n",
              "<style scoped>\n",
              "    .dataframe tbody tr th:only-of-type {\n",
              "        vertical-align: middle;\n",
              "    }\n",
              "\n",
              "    .dataframe tbody tr th {\n",
              "        vertical-align: top;\n",
              "    }\n",
              "\n",
              "    .dataframe thead th {\n",
              "        text-align: right;\n",
              "    }\n",
              "</style>\n",
              "<table border=\"1\" class=\"dataframe\">\n",
              "  <thead>\n",
              "    <tr style=\"text-align: right;\">\n",
              "      <th></th>\n",
              "      <th>title</th>\n",
              "      <th>writer</th>\n",
              "      <th>lyrics</th>\n",
              "    </tr>\n",
              "  </thead>\n",
              "  <tbody>\n",
              "    <tr>\n",
              "      <th>0</th>\n",
              "      <td>(Just Like) Starting Over</td>\n",
              "      <td>Lennon</td>\n",
              "      <td>Our life together is so precious together,\\We ...</td>\n",
              "    </tr>\n",
              "    <tr>\n",
              "      <th>1</th>\n",
              "      <td>A Day In The Life</td>\n",
              "      <td>NaN</td>\n",
              "      <td>I read the news today oh boy\\About a lucky man...</td>\n",
              "    </tr>\n",
              "    <tr>\n",
              "      <th>2</th>\n",
              "      <td>A Hard Day's Night</td>\n",
              "      <td>Lennon &amp; McCartney</td>\n",
              "      <td>It's been a hard day's night\\And I've been wor...</td>\n",
              "    </tr>\n",
              "    <tr>\n",
              "      <th>3</th>\n",
              "      <td>A Taste of Honey</td>\n",
              "      <td>Scott/Marlow</td>\n",
              "      <td>A taste of honey... tasting much sweeter than ...</td>\n",
              "    </tr>\n",
              "    <tr>\n",
              "      <th>4</th>\n",
              "      <td>A world without love</td>\n",
              "      <td>Lennon &amp; McCartney</td>\n",
              "      <td>(as recorded by peter &amp; gordon)\\Please lock me...</td>\n",
              "    </tr>\n",
              "  </tbody>\n",
              "</table>\n",
              "</div>"
            ],
            "text/plain": [
              "                       title  ...                                             lyrics\n",
              "0  (Just Like) Starting Over  ...  Our life together is so precious together,\\We ...\n",
              "1          A Day In The Life  ...  I read the news today oh boy\\About a lucky man...\n",
              "2         A Hard Day's Night  ...  It's been a hard day's night\\And I've been wor...\n",
              "3           A Taste of Honey  ...  A taste of honey... tasting much sweeter than ...\n",
              "4       A world without love  ...  (as recorded by peter & gordon)\\Please lock me...\n",
              "\n",
              "[5 rows x 3 columns]"
            ]
          },
          "metadata": {
            "tags": []
          },
          "execution_count": 2
        }
      ]
    },
    {
      "cell_type": "code",
      "metadata": {
        "id": "cTqOpukVxXUA",
        "colab_type": "code",
        "colab": {
          "base_uri": "https://localhost:8080/",
          "height": 17
        },
        "outputId": "d95dc83f-c082-4edf-d8e9-8a2ab68a1869"
      },
      "source": [
        "data_lm = (TextList.from_df(df,\"/content\",cols=\"lyrics\")\n",
        "            .split_by_rand_pct(0.1)\n",
        "            .label_for_lm()\n",
        "            .databunch(bs=48))\n",
        "data_lm.save('data_lm.pkl')"
      ],
      "execution_count": 3,
      "outputs": [
        {
          "output_type": "display_data",
          "data": {
            "text/html": [
              ""
            ],
            "text/plain": [
              "<IPython.core.display.HTML object>"
            ]
          },
          "metadata": {
            "tags": []
          }
        },
        {
          "output_type": "display_data",
          "data": {
            "text/html": [
              ""
            ],
            "text/plain": [
              "<IPython.core.display.HTML object>"
            ]
          },
          "metadata": {
            "tags": []
          }
        }
      ]
    },
    {
      "cell_type": "code",
      "metadata": {
        "id": "diT69L7xyUPu",
        "colab_type": "code",
        "colab": {
          "base_uri": "https://localhost:8080/",
          "height": 289
        },
        "outputId": "c586a0cc-35d0-4a19-ae6e-9a66f620380f"
      },
      "source": [
        "data_lm.show_batch()"
      ],
      "execution_count": 4,
      "outputs": [
        {
          "output_type": "display_data",
          "data": {
            "text/html": [
              "<table border=\"1\" class=\"dataframe\">\n",
              "  <thead>\n",
              "    <tr style=\"text-align: right;\">\n",
              "      <th>idx</th>\n",
              "      <th>text</th>\n",
              "    </tr>\n",
              "  </thead>\n",
              "  <tbody>\n",
              "    <tr>\n",
              "      <td>0</td>\n",
              "      <td>xxunk , \\ xxmaj but when i see you darling , \\ xxmaj it 's like we both are falling in love again , \\ xxmaj it 'll be just like starting over - starting over , \\ xxmaj everyday we used to make it love , \\ xxmaj why ca n't we be making love nice and easy , \\ xxmaj it 's time to spread our wing 's</td>\n",
              "    </tr>\n",
              "    <tr>\n",
              "      <td>1</td>\n",
              "      <td>across the universe . \\ xxmaj jai xxmaj guru xxmaj de va xxmaj om \\ xxmaj nothing 's gon na change my world \\ xxmaj nothing 's gon na change my world \\ xxmaj nothing 's gon na change my world \\ xxmaj nothing 's gon na change my world \\ xxmaj jai xxmaj guru xxmaj de va xxmaj om ... xxbos xxmaj they 're gon na put me in</td>\n",
              "    </tr>\n",
              "    <tr>\n",
              "      <td>2</td>\n",
              "      <td>you can save that ca n't be xxunk \\ xxmaj nothing you can do but you can learn how to be you in time \\ xxmaj it 's easy \\ xxmaj all you need is love \\ xxmaj all you need is love \\ xxmaj all you need is love \\ xxmaj love xxmaj that is all you need \\ xxmaj there 's nothing you can know that is n't</td>\n",
              "    </tr>\n",
              "    <tr>\n",
              "      <td>3</td>\n",
              "      <td>of human \\ power \\ xxmaj what a xxunk of human lives , \\ shoot the prisioners in \\ the xxunk \\ xxmaj xxunk - three poor xxunk \\ xxunk \\ xxmaj xxunk xxunk it on the \\ prisioners , \\ xxmaj but the prisioners did not xxunk pulled the xxunk \" \\ xxmaj that ’s what the people feel . \\ xxmaj attica , xxmaj attica state , we</td>\n",
              "    </tr>\n",
              "    <tr>\n",
              "      <td>4</td>\n",
              "      <td>as recorded by cream ) \\ xxmaj thinking 'bout the times you drove in my car , \\ xxmaj thinking that i might have drove it too far . \\ xxmaj and i ’m thinking 'bout the love that you laid on my table . \\ i told you not to xxunk ' round in the dark , \\ i told you 'bout the xxunk that they live in the</td>\n",
              "    </tr>\n",
              "  </tbody>\n",
              "</table>"
            ],
            "text/plain": [
              "<IPython.core.display.HTML object>"
            ]
          },
          "metadata": {
            "tags": []
          }
        }
      ]
    },
    {
      "cell_type": "code",
      "metadata": {
        "id": "dmKPdSavya7c",
        "colab_type": "code",
        "colab": {
          "base_uri": "https://localhost:8080/",
          "height": 34
        },
        "outputId": "3e3a9162-91ba-49db-fbe6-19a58a3e9a98"
      },
      "source": [
        "learn = language_model_learner(data_lm, AWD_LSTM, drop_mult=0.3)"
      ],
      "execution_count": 5,
      "outputs": [
        {
          "output_type": "stream",
          "text": [
            "Downloading https://s3.amazonaws.com/fast-ai-modelzoo/wt103-fwd.tgz\n"
          ],
          "name": "stdout"
        },
        {
          "output_type": "display_data",
          "data": {
            "text/html": [
              ""
            ],
            "text/plain": [
              "<IPython.core.display.HTML object>"
            ]
          },
          "metadata": {
            "tags": []
          }
        }
      ]
    },
    {
      "cell_type": "code",
      "metadata": {
        "id": "JkAAveGLyg8b",
        "colab_type": "code",
        "colab": {
          "base_uri": "https://localhost:8080/",
          "height": 498
        },
        "outputId": "81a4551b-8171-4f90-9f15-32695ad04164"
      },
      "source": [
        "learn.lr_find()\n",
        "learn.recorder.plot()"
      ],
      "execution_count": 52,
      "outputs": [
        {
          "output_type": "display_data",
          "data": {
            "text/html": [
              "\n",
              "    <div>\n",
              "        <style>\n",
              "            /* Turns off some styling */\n",
              "            progress {\n",
              "                /* gets rid of default border in Firefox and Opera. */\n",
              "                border: none;\n",
              "                /* Needs to be in here for Safari polyfill so background images work as expected. */\n",
              "                background-size: auto;\n",
              "            }\n",
              "            .progress-bar-interrupted, .progress-bar-interrupted::-webkit-progress-bar {\n",
              "                background: #F44336;\n",
              "            }\n",
              "        </style>\n",
              "      <progress value='4' class='' max='5' style='width:300px; height:20px; vertical-align: middle;'></progress>\n",
              "      80.00% [4/5 00:24<00:06]\n",
              "    </div>\n",
              "    \n",
              "<table border=\"1\" class=\"dataframe\">\n",
              "  <thead>\n",
              "    <tr style=\"text-align: left;\">\n",
              "      <th>epoch</th>\n",
              "      <th>train_loss</th>\n",
              "      <th>valid_loss</th>\n",
              "      <th>accuracy</th>\n",
              "      <th>time</th>\n",
              "    </tr>\n",
              "  </thead>\n",
              "  <tbody>\n",
              "    <tr>\n",
              "      <td>0</td>\n",
              "      <td>5.530646</td>\n",
              "      <td>#na#</td>\n",
              "      <td>00:06</td>\n",
              "    </tr>\n",
              "    <tr>\n",
              "      <td>1</td>\n",
              "      <td>5.508198</td>\n",
              "      <td>#na#</td>\n",
              "      <td>00:05</td>\n",
              "    </tr>\n",
              "    <tr>\n",
              "      <td>2</td>\n",
              "      <td>5.248506</td>\n",
              "      <td>#na#</td>\n",
              "      <td>00:05</td>\n",
              "    </tr>\n",
              "    <tr>\n",
              "      <td>3</td>\n",
              "      <td>5.094655</td>\n",
              "      <td>#na#</td>\n",
              "      <td>00:05</td>\n",
              "    </tr>\n",
              "  </tbody>\n",
              "</table><p>\n",
              "\n",
              "    <div>\n",
              "        <style>\n",
              "            /* Turns off some styling */\n",
              "            progress {\n",
              "                /* gets rid of default border in Firefox and Opera. */\n",
              "                border: none;\n",
              "                /* Needs to be in here for Safari polyfill so background images work as expected. */\n",
              "                background-size: auto;\n",
              "            }\n",
              "            .progress-bar-interrupted, .progress-bar-interrupted::-webkit-progress-bar {\n",
              "                background: #F44336;\n",
              "            }\n",
              "        </style>\n",
              "      <progress value='7' class='' max='23' style='width:300px; height:20px; vertical-align: middle;'></progress>\n",
              "      30.43% [7/23 00:01<00:04 8.4846]\n",
              "    </div>\n",
              "    "
            ],
            "text/plain": [
              "<IPython.core.display.HTML object>"
            ]
          },
          "metadata": {
            "tags": []
          }
        },
        {
          "output_type": "stream",
          "text": [
            "LR Finder is complete, type {learner_name}.recorder.plot() to see the graph.\n"
          ],
          "name": "stdout"
        },
        {
          "output_type": "display_data",
          "data": {
            "image/png": "[encoded data removed]",
            "text/plain": [
              "<Figure size 432x288 with 1 Axes>"
            ]
          },
          "metadata": {
            "tags": [],
            "needs_background": "light"
          }
        }
      ]
    },
    {
      "cell_type": "code",
      "metadata": {
        "id": "FdYt3fqcyg-1",
        "colab_type": "code",
        "colab": {
          "base_uri": "https://localhost:8080/",
          "height": 80
        },
        "outputId": "7ab4ed88-a4d6-40c3-c180-6bc7c8d98fa6"
      },
      "source": [
        "learn.fit_one_cycle(1, 5e-2, moms=(0.8,0.7))\n",
        "learn.save('fit_head')"
      ],
      "execution_count": 6,
      "outputs": [
        {
          "output_type": "display_data",
          "data": {
            "text/html": [
              "<table border=\"1\" class=\"dataframe\">\n",
              "  <thead>\n",
              "    <tr style=\"text-align: left;\">\n",
              "      <th>epoch</th>\n",
              "      <th>train_loss</th>\n",
              "      <th>valid_loss</th>\n",
              "      <th>accuracy</th>\n",
              "      <th>time</th>\n",
              "    </tr>\n",
              "  </thead>\n",
              "  <tbody>\n",
              "    <tr>\n",
              "      <td>0</td>\n",
              "      <td>4.004592</td>\n",
              "      <td>3.392741</td>\n",
              "      <td>0.316468</td>\n",
              "      <td>00:02</td>\n",
              "    </tr>\n",
              "  </tbody>\n",
              "</table>"
            ],
            "text/plain": [
              "<IPython.core.display.HTML object>"
            ]
          },
          "metadata": {
            "tags": []
          }
        }
      ]
    },
    {
      "cell_type": "code",
      "metadata": {
        "id": "8ebv4Dplzuzg",
        "colab_type": "code",
        "colab": {}
      },
      "source": [
        "learn.load('fit_head');"
      ],
      "execution_count": 0,
      "outputs": []
    },
    {
      "cell_type": "code",
      "metadata": {
        "id": "1osvpsjpy-QD",
        "colab_type": "code",
        "colab": {}
      },
      "source": [
        "learn.unfreeze()\n",
        "learn.lr_find()\n",
        "learn.recorder.plot()"
      ],
      "execution_count": 0,
      "outputs": []
    },
    {
      "cell_type": "code",
      "metadata": {
        "id": "LgOsOSBxzCX1",
        "colab_type": "code",
        "colab": {
          "base_uri": "https://localhost:8080/",
          "height": 80
        },
        "outputId": "6b5fb6fe-2cfc-4602-f7f3-e3f935b304ee"
      },
      "source": [
        "learn.fit_one_cycle(3, 1e-3, moms=(0.8,0.7))\n",
        "learn.save('fine_tuned')"
      ],
      "execution_count": 10,
      "outputs": [
        {
          "output_type": "display_data",
          "data": {
            "text/html": [
              "<table border=\"1\" class=\"dataframe\">\n",
              "  <thead>\n",
              "    <tr style=\"text-align: left;\">\n",
              "      <th>epoch</th>\n",
              "      <th>train_loss</th>\n",
              "      <th>valid_loss</th>\n",
              "      <th>accuracy</th>\n",
              "      <th>time</th>\n",
              "    </tr>\n",
              "  </thead>\n",
              "  <tbody>\n",
              "    <tr>\n",
              "      <td>0</td>\n",
              "      <td>2.012415</td>\n",
              "      <td>3.139467</td>\n",
              "      <td>0.365079</td>\n",
              "      <td>00:02</td>\n",
              "    </tr>\n",
              "  </tbody>\n",
              "</table>"
            ],
            "text/plain": [
              "<IPython.core.display.HTML object>"
            ]
          },
          "metadata": {
            "tags": []
          }
        }
      ]
    },
    {
      "cell_type": "code",
      "metadata": {
        "id": "A3Qu-yTIzR9e",
        "colab_type": "code",
        "colab": {}
      },
      "source": [
        "learn.save_encoder('fine_tuned_enc')"
      ],
      "execution_count": 0,
      "outputs": []
    },
    {
      "cell_type": "code",
      "metadata": {
        "id": "KlJUY1VPzPjn",
        "colab_type": "code",
        "colab": {}
      },
      "source": [
        "def write_songs(TEXT=\"\",N_WORDS=100,N_SONGS=1,TEMPS=[0.9]):\n",
        "    for i in range(N_SONGS):\n",
        "        song = learn.predict(TEXT, N_WORDS, temperature=TEMPS[i%N_SONGS])\n",
        "        print(song.replace(\"\\\\\",\"\\n\").replace(\"xxbos\",\"\\n\"))\n",
        "        print(\"\\n\")"
      ],
      "execution_count": 0,
      "outputs": []
    },
    {
      "cell_type": "code",
      "metadata": {
        "id": "nZWGoUO35Ais",
        "colab_type": "code",
        "colab": {
          "base_uri": "https://localhost:8080/",
          "height": 646
        },
        "outputId": "1a22f12f-cdd8-44b4-f48a-3c09c517bffd"
      },
      "source": [
        "learn.load(\"fine_tuned\")\n",
        "write_songs(\"Happy birthday Barbara\", 100, 3, [0.7,0.9,1.1])"
      ],
      "execution_count": 20,
      "outputs": [
        {
          "output_type": "stream",
          "text": [
            "Happy birthday Barbara love , \n",
            " i 'm coming home to make it easy \n",
            " And i got to say i 'll be mine \n",
            " It 's a joy to make . \n",
            " It 's sweet and funny , \n",
            " It 's beautiful and we 'll be happy . \n",
            " i 've got a feeling that 's something to be true \n",
            " But i 'm so glad i 'll make it more and more , \n",
            " And i will have a happy new year \n",
            " Will you and i really make a wish \n",
            " And\n",
            "\n",
            "\n",
            "Happy birthday Barbara , oh yes you 'll be glad , \n",
            " i hope you 'll be good after you and i will be happy . \n",
            " We wo n't stay in a world without love . \n",
            " We may be afraid to dance with you \n",
            " We 'll be free if we know we 're shore we are away \n",
            " We are in love with We World We Live In World Love \n",
            " We know we 'll live on and we can live without \n",
            " They 'll be through\n",
            "\n",
            "\n",
            "Happy birthday Barbara , i 'm coming on \n",
            " Oh happy the good ones \n",
            " Happy morning coming out for ease . \n",
            " He got my way , kids , and maybe my little lover , Things go bad \n",
            " Misery did n't worry \n",
            " Ah , yes , we make easy trouble , \n",
            " You leave me standing alone \n",
            " i 'm so waiting there 's painting the world \n",
            " And looking through \n",
            " White - dressed him , \n",
            " Bird on the pam should be doggone \n",
            " But there 's\n",
            "\n",
            "\n"
          ],
          "name": "stdout"
        }
      ]
    },
    {
      "cell_type": "code",
      "metadata": {
        "id": "BUgZvwGu_9Wj",
        "colab_type": "code",
        "colab": {}
      },
      "source": [
        "clean_df = df.dropna()"
      ],
      "execution_count": 0,
      "outputs": []
    },
    {
      "cell_type": "code",
      "metadata": {
        "id": "h7ZDPHNs77H9",
        "colab_type": "code",
        "colab": {
          "base_uri": "https://localhost:8080/",
          "height": 85
        },
        "outputId": "645ad394-05d2-4ec4-d938-547f495e9934"
      },
      "source": [
        "data_clas = (TextList.from_df(clean_df,\"/content\",vocab=data_lm.vocab,cols=[\"lyrics\",\"title\"])\n",
        "            .split_by_rand_pct(0.1)\n",
        "            .label_from_df(cols=\"writer\")\n",
        "            .databunch(bs=48))\n",
        "data_clas.save('data_clas.pkl')"
      ],
      "execution_count": 22,
      "outputs": [
        {
          "output_type": "display_data",
          "data": {
            "text/html": [
              ""
            ],
            "text/plain": [
              "<IPython.core.display.HTML object>"
            ]
          },
          "metadata": {
            "tags": []
          }
        },
        {
          "output_type": "display_data",
          "data": {
            "text/html": [
              ""
            ],
            "text/plain": [
              "<IPython.core.display.HTML object>"
            ]
          },
          "metadata": {
            "tags": []
          }
        },
        {
          "output_type": "stream",
          "text": [
            "/usr/local/lib/python3.6/dist-packages/fastai/data_block.py:541: UserWarning: You are labelling your items with CategoryList.\n",
            "Your valid set contained the following unknown labels, the corresponding items have been discarded.\n",
            "Dubin/Warren\n",
            "  if getattr(ds, 'warn', False): warn(ds.warn)\n"
          ],
          "name": "stderr"
        }
      ]
    },
    {
      "cell_type": "code",
      "metadata": {
        "id": "6gqSpOSU_0VJ",
        "colab_type": "code",
        "colab": {
          "base_uri": "https://localhost:8080/",
          "height": 289
        },
        "outputId": "01e7712f-fd9a-4abd-aae8-552c0afec894"
      },
      "source": [
        "data_clas.show_batch()"
      ],
      "execution_count": 23,
      "outputs": [
        {
          "output_type": "display_data",
          "data": {
            "text/html": [
              "<table border=\"1\" class=\"dataframe\">\n",
              "  <thead>\n",
              "    <tr style=\"text-align: right;\">\n",
              "      <th>text</th>\n",
              "      <th>target</th>\n",
              "    </tr>\n",
              "  </thead>\n",
              "  <tbody>\n",
              "    <tr>\n",
              "      <td>xxbos xxmaj well \\ xxmaj be - xxmaj bop - a - xxmaj lula xxmaj she 's xxmaj my xxmaj baby \\ xxmaj be - xxmaj bop - a - xxmaj lula xxmaj do n't xxmaj mean xxmaj maybe \\ xxmaj be - xxmaj bop - a - xxmaj lula xxmaj she 's xxmaj my xxmaj baby \\ xxmaj be - xxmaj bop - a - xxmaj lula xxmaj do</td>\n",
              "      <td>Gene Vincent/Sheriff Tex Davis</td>\n",
              "    </tr>\n",
              "    <tr>\n",
              "      <td>xxbos xxmaj you 're going to lose that girl \\ ( xxmaj yes yes xxmaj you 're going to lose that girl ) \\ xxmaj you 're going to lose that girl \\ ( xxmaj yes yes xxmaj you 're going to lose that girl ) \\ xxmaj if you do n't take her out tonight she 's going to change her mind \\ ( xxmaj she 's going to</td>\n",
              "      <td>Lennon &amp; McCartney</td>\n",
              "    </tr>\n",
              "    <tr>\n",
              "      <td>xxbos xxmaj just let me hear some of that xxmaj rock xxmaj and xxmaj roll xxmaj music , \\ xxmaj any old way you choose it ; \\ xxmaj it 's got a back beat , you ca n't lose it , \\ xxmaj any old time you use it . \\ xxmaj it 's got ta be rock roll music , \\ xxmaj if you wanna dance with me</td>\n",
              "      <td>Chuck Berry</td>\n",
              "    </tr>\n",
              "    <tr>\n",
              "      <td>xxbos i tried to find out \\ xxmaj what love is all about \\ xxmaj and every day \\ xxmaj it sure lets out \\ i see my baby \\ i get week in my knees \\ xxmaj there 's nothing shaking \\ xxmaj but the leaves on the trees \\ xxmaj my xxunk told me \\ xxmaj there 'd be times like these \\ xxmaj there 's nothing shaking</td>\n",
              "      <td>Fontaine/Calacrai/Lampert/Gluck</td>\n",
              "    </tr>\n",
              "    <tr>\n",
              "      <td>xxbos xxmaj desmond had a xxunk in the market place \\ xxmaj molly is the singer in a band \\ xxmaj desmond says to xxmaj molly girl i like your face \\ xxmaj and xxmaj molly says this as she takes him by the hand \\ xxmaj ob - la - di xxmaj ob - la - da life goes on \\ bra - la - la how the life</td>\n",
              "      <td>Lennon &amp; McCartney</td>\n",
              "    </tr>\n",
              "  </tbody>\n",
              "</table>"
            ],
            "text/plain": [
              "<IPython.core.display.HTML object>"
            ]
          },
          "metadata": {
            "tags": []
          }
        }
      ]
    },
    {
      "cell_type": "code",
      "metadata": {
        "id": "GbRLD0bGAZs3",
        "colab_type": "code",
        "colab": {}
      },
      "source": [
        "learn = text_classifier_learner(data_clas, AWD_LSTM, drop_mult=0.5)\n",
        "learn.load_encoder('fine_tuned_enc');"
      ],
      "execution_count": 0,
      "outputs": []
    },
    {
      "cell_type": "code",
      "metadata": {
        "id": "t8RnTUEGAhVR",
        "colab_type": "code",
        "colab": {
          "base_uri": "https://localhost:8080/",
          "height": 963
        },
        "outputId": "03b57d4b-f431-4d75-9cd2-6aef95d2a747"
      },
      "source": [
        "learn.lr_find()\n",
        "learn.recorder.plot()"
      ],
      "execution_count": 119,
      "outputs": [
        {
          "output_type": "display_data",
          "data": {
            "text/html": [
              "\n",
              "    <div>\n",
              "        <style>\n",
              "            /* Turns off some styling */\n",
              "            progress {\n",
              "                /* gets rid of default border in Firefox and Opera. */\n",
              "                border: none;\n",
              "                /* Needs to be in here for Safari polyfill so background images work as expected. */\n",
              "                background-size: auto;\n",
              "            }\n",
              "            .progress-bar-interrupted, .progress-bar-interrupted::-webkit-progress-bar {\n",
              "                background: #F44336;\n",
              "            }\n",
              "        </style>\n",
              "      <progress value='19' class='' max='20' style='width:300px; height:20px; vertical-align: middle;'></progress>\n",
              "      95.00% [19/20 00:53<00:02]\n",
              "    </div>\n",
              "    \n",
              "<table border=\"1\" class=\"dataframe\">\n",
              "  <thead>\n",
              "    <tr style=\"text-align: left;\">\n",
              "      <th>epoch</th>\n",
              "      <th>train_loss</th>\n",
              "      <th>valid_loss</th>\n",
              "      <th>accuracy</th>\n",
              "      <th>time</th>\n",
              "    </tr>\n",
              "  </thead>\n",
              "  <tbody>\n",
              "    <tr>\n",
              "      <td>0</td>\n",
              "      <td>3.604126</td>\n",
              "      <td>#na#</td>\n",
              "      <td>00:03</td>\n",
              "    </tr>\n",
              "    <tr>\n",
              "      <td>1</td>\n",
              "      <td>3.597997</td>\n",
              "      <td>#na#</td>\n",
              "      <td>00:02</td>\n",
              "    </tr>\n",
              "    <tr>\n",
              "      <td>2</td>\n",
              "      <td>3.605099</td>\n",
              "      <td>#na#</td>\n",
              "      <td>00:02</td>\n",
              "    </tr>\n",
              "    <tr>\n",
              "      <td>3</td>\n",
              "      <td>3.601283</td>\n",
              "      <td>#na#</td>\n",
              "      <td>00:02</td>\n",
              "    </tr>\n",
              "    <tr>\n",
              "      <td>4</td>\n",
              "      <td>3.581999</td>\n",
              "      <td>#na#</td>\n",
              "      <td>00:02</td>\n",
              "    </tr>\n",
              "    <tr>\n",
              "      <td>5</td>\n",
              "      <td>3.586895</td>\n",
              "      <td>#na#</td>\n",
              "      <td>00:02</td>\n",
              "    </tr>\n",
              "    <tr>\n",
              "      <td>6</td>\n",
              "      <td>3.574933</td>\n",
              "      <td>#na#</td>\n",
              "      <td>00:02</td>\n",
              "    </tr>\n",
              "    <tr>\n",
              "      <td>7</td>\n",
              "      <td>3.570037</td>\n",
              "      <td>#na#</td>\n",
              "      <td>00:02</td>\n",
              "    </tr>\n",
              "    <tr>\n",
              "      <td>8</td>\n",
              "      <td>3.558667</td>\n",
              "      <td>#na#</td>\n",
              "      <td>00:02</td>\n",
              "    </tr>\n",
              "    <tr>\n",
              "      <td>9</td>\n",
              "      <td>3.538838</td>\n",
              "      <td>#na#</td>\n",
              "      <td>00:02</td>\n",
              "    </tr>\n",
              "    <tr>\n",
              "      <td>10</td>\n",
              "      <td>3.483301</td>\n",
              "      <td>#na#</td>\n",
              "      <td>00:02</td>\n",
              "    </tr>\n",
              "    <tr>\n",
              "      <td>11</td>\n",
              "      <td>3.379045</td>\n",
              "      <td>#na#</td>\n",
              "      <td>00:02</td>\n",
              "    </tr>\n",
              "    <tr>\n",
              "      <td>12</td>\n",
              "      <td>3.226714</td>\n",
              "      <td>#na#</td>\n",
              "      <td>00:02</td>\n",
              "    </tr>\n",
              "    <tr>\n",
              "      <td>13</td>\n",
              "      <td>3.016509</td>\n",
              "      <td>#na#</td>\n",
              "      <td>00:02</td>\n",
              "    </tr>\n",
              "    <tr>\n",
              "      <td>14</td>\n",
              "      <td>2.733688</td>\n",
              "      <td>#na#</td>\n",
              "      <td>00:02</td>\n",
              "    </tr>\n",
              "    <tr>\n",
              "      <td>15</td>\n",
              "      <td>2.500702</td>\n",
              "      <td>#na#</td>\n",
              "      <td>00:02</td>\n",
              "    </tr>\n",
              "    <tr>\n",
              "      <td>16</td>\n",
              "      <td>2.436089</td>\n",
              "      <td>#na#</td>\n",
              "      <td>00:02</td>\n",
              "    </tr>\n",
              "    <tr>\n",
              "      <td>17</td>\n",
              "      <td>2.800134</td>\n",
              "      <td>#na#</td>\n",
              "      <td>00:02</td>\n",
              "    </tr>\n",
              "    <tr>\n",
              "      <td>18</td>\n",
              "      <td>8.760015</td>\n",
              "      <td>#na#</td>\n",
              "      <td>00:02</td>\n",
              "    </tr>\n",
              "  </tbody>\n",
              "</table><p>\n",
              "\n",
              "    <div>\n",
              "        <style>\n",
              "            /* Turns off some styling */\n",
              "            progress {\n",
              "                /* gets rid of default border in Firefox and Opera. */\n",
              "                border: none;\n",
              "                /* Needs to be in here for Safari polyfill so background images work as expected. */\n",
              "                background-size: auto;\n",
              "            }\n",
              "            .progress-bar-interrupted, .progress-bar-interrupted::-webkit-progress-bar {\n",
              "                background: #F44336;\n",
              "            }\n",
              "        </style>\n",
              "      <progress value='0' class='' max='5' style='width:300px; height:20px; vertical-align: middle;'></progress>\n",
              "      0.00% [0/5 00:00<00:00]\n",
              "    </div>\n",
              "    "
            ],
            "text/plain": [
              "<IPython.core.display.HTML object>"
            ]
          },
          "metadata": {
            "tags": []
          }
        },
        {
          "output_type": "stream",
          "text": [
            "LR Finder is complete, type {learner_name}.recorder.plot() to see the graph.\n"
          ],
          "name": "stdout"
        },
        {
          "output_type": "display_data",
          "data": {
            "image/png": "[encoded data removed]",
            "text/plain": [
              "<Figure size 432x288 with 1 Axes>"
            ]
          },
          "metadata": {
            "tags": [],
            "needs_background": "light"
          }
        }
      ]
    },
    {
      "cell_type": "code",
      "metadata": {
        "id": "jXc5BTA0Ak2z",
        "colab_type": "code",
        "colab": {
          "base_uri": "https://localhost:8080/",
          "height": 80
        },
        "outputId": "ece44b59-f280-4884-dc4d-ecd9fcffaeca"
      },
      "source": [
        "learn.fit_one_cycle(1, 3e-2, moms=(0.8,0.7))\n",
        "learn.save('first')"
      ],
      "execution_count": 25,
      "outputs": [
        {
          "output_type": "display_data",
          "data": {
            "text/html": [
              "<table border=\"1\" class=\"dataframe\">\n",
              "  <thead>\n",
              "    <tr style=\"text-align: left;\">\n",
              "      <th>epoch</th>\n",
              "      <th>train_loss</th>\n",
              "      <th>valid_loss</th>\n",
              "      <th>accuracy</th>\n",
              "      <th>time</th>\n",
              "    </tr>\n",
              "  </thead>\n",
              "  <tbody>\n",
              "    <tr>\n",
              "      <td>0</td>\n",
              "      <td>3.496198</td>\n",
              "      <td>2.965366</td>\n",
              "      <td>0.444444</td>\n",
              "      <td>00:01</td>\n",
              "    </tr>\n",
              "  </tbody>\n",
              "</table>"
            ],
            "text/plain": [
              "<IPython.core.display.HTML object>"
            ]
          },
          "metadata": {
            "tags": []
          }
        }
      ]
    },
    {
      "cell_type": "code",
      "metadata": {
        "id": "fgOZvYTbA2B-",
        "colab_type": "code",
        "colab": {
          "base_uri": "https://localhost:8080/",
          "height": 80
        },
        "outputId": "68be69ca-12c0-41f4-e7a1-02ff482a1140"
      },
      "source": [
        "learn.freeze_to(-2)\n",
        "learn.fit_one_cycle(1, slice(1e-2/(2.6**4),1e-2), moms=(0.8,0.7))\n",
        "learn.save('second')"
      ],
      "execution_count": 26,
      "outputs": [
        {
          "output_type": "display_data",
          "data": {
            "text/html": [
              "<table border=\"1\" class=\"dataframe\">\n",
              "  <thead>\n",
              "    <tr style=\"text-align: left;\">\n",
              "      <th>epoch</th>\n",
              "      <th>train_loss</th>\n",
              "      <th>valid_loss</th>\n",
              "      <th>accuracy</th>\n",
              "      <th>time</th>\n",
              "    </tr>\n",
              "  </thead>\n",
              "  <tbody>\n",
              "    <tr>\n",
              "      <td>0</td>\n",
              "      <td>2.652060</td>\n",
              "      <td>2.706334</td>\n",
              "      <td>0.703704</td>\n",
              "      <td>00:01</td>\n",
              "    </tr>\n",
              "  </tbody>\n",
              "</table>"
            ],
            "text/plain": [
              "<IPython.core.display.HTML object>"
            ]
          },
          "metadata": {
            "tags": []
          }
        }
      ]
    },
    {
      "cell_type": "code",
      "metadata": {
        "id": "xC47bH_CA5lW",
        "colab_type": "code",
        "colab": {
          "base_uri": "https://localhost:8080/",
          "height": 80
        },
        "outputId": "d2369c35-d9a4-4425-88d3-968927ce8f6a"
      },
      "source": [
        "learn.freeze_to(-3)\n",
        "learn.fit_one_cycle(1, slice(5e-3/(2.6**4),5e-3), moms=(0.8,0.7))\n",
        "learn.save('third')"
      ],
      "execution_count": 27,
      "outputs": [
        {
          "output_type": "display_data",
          "data": {
            "text/html": [
              "<table border=\"1\" class=\"dataframe\">\n",
              "  <thead>\n",
              "    <tr style=\"text-align: left;\">\n",
              "      <th>epoch</th>\n",
              "      <th>train_loss</th>\n",
              "      <th>valid_loss</th>\n",
              "      <th>accuracy</th>\n",
              "      <th>time</th>\n",
              "    </tr>\n",
              "  </thead>\n",
              "  <tbody>\n",
              "    <tr>\n",
              "      <td>0</td>\n",
              "      <td>2.171183</td>\n",
              "      <td>2.649914</td>\n",
              "      <td>0.629630</td>\n",
              "      <td>00:02</td>\n",
              "    </tr>\n",
              "  </tbody>\n",
              "</table>"
            ],
            "text/plain": [
              "<IPython.core.display.HTML object>"
            ]
          },
          "metadata": {
            "tags": []
          }
        }
      ]
    },
    {
      "cell_type": "code",
      "metadata": {
        "id": "2jMcaDf-A9z7",
        "colab_type": "code",
        "colab": {
          "base_uri": "https://localhost:8080/",
          "height": 111
        },
        "outputId": "62b7b483-3188-4c07-a317-c3553cbecb6e"
      },
      "source": [
        "learn.unfreeze()\n",
        "learn.fit_one_cycle(2, slice(1e-3/(2.6**4),1e-3), moms=(0.8,0.7))\n",
        "\n",
        "learn.save('final')"
      ],
      "execution_count": 28,
      "outputs": [
        {
          "output_type": "display_data",
          "data": {
            "text/html": [
              "<table border=\"1\" class=\"dataframe\">\n",
              "  <thead>\n",
              "    <tr style=\"text-align: left;\">\n",
              "      <th>epoch</th>\n",
              "      <th>train_loss</th>\n",
              "      <th>valid_loss</th>\n",
              "      <th>accuracy</th>\n",
              "      <th>time</th>\n",
              "    </tr>\n",
              "  </thead>\n",
              "  <tbody>\n",
              "    <tr>\n",
              "      <td>0</td>\n",
              "      <td>1.785372</td>\n",
              "      <td>2.710893</td>\n",
              "      <td>0.518519</td>\n",
              "      <td>00:02</td>\n",
              "    </tr>\n",
              "    <tr>\n",
              "      <td>1</td>\n",
              "      <td>1.725005</td>\n",
              "      <td>2.720846</td>\n",
              "      <td>0.444444</td>\n",
              "      <td>00:02</td>\n",
              "    </tr>\n",
              "  </tbody>\n",
              "</table>"
            ],
            "text/plain": [
              "<IPython.core.display.HTML object>"
            ]
          },
          "metadata": {
            "tags": []
          }
        }
      ]
    },
    {
      "cell_type": "code",
      "metadata": {
        "id": "1FrbOnl9bNox",
        "colab_type": "code",
        "colab": {}
      },
      "source": [
        "learn.load('final');"
      ],
      "execution_count": 0,
      "outputs": []
    },
    {
      "cell_type": "code",
      "metadata": {
        "id": "XUl4QvS9BIlz",
        "colab_type": "code",
        "colab": {
          "base_uri": "https://localhost:8080/",
          "height": 17
        },
        "outputId": "2e0d74a2-cbe0-452a-ebe3-bd08e689f0ee"
      },
      "source": [
        "ci = TextClassificationInterpretation.from_learner(learn)"
      ],
      "execution_count": 56,
      "outputs": [
        {
          "output_type": "display_data",
          "data": {
            "text/html": [
              ""
            ],
            "text/plain": [
              "<IPython.core.display.HTML object>"
            ]
          },
          "metadata": {
            "tags": []
          }
        }
      ]
    },
    {
      "cell_type": "code",
      "metadata": {
        "id": "2hJHfWinc3DA",
        "colab_type": "code",
        "colab": {
          "base_uri": "https://localhost:8080/",
          "height": 68
        },
        "outputId": "3e953175-9469-4ce8-9f42-cf2c3b8d223f"
      },
      "source": [
        "print(\"All Things Must Pass\" in df[\"title\"])\n",
        "print(\"Live And Let Die\" in df[\"title\"])\n",
        "print(\"Imagine\" in df[\"title\"])"
      ],
      "execution_count": 66,
      "outputs": [
        {
          "output_type": "stream",
          "text": [
            "False\n",
            "False\n",
            "False\n"
          ],
          "name": "stdout"
        }
      ]
    },
    {
      "cell_type": "code",
      "metadata": {
        "id": "aEtA9a3UBBc7",
        "colab_type": "code",
        "colab": {
          "base_uri": "https://localhost:8080/",
          "height": 68
        },
        "outputId": "5cfbf27e-77fd-4440-a052-860e4a7909f5"
      },
      "source": [
        "prompt1 = \"Sunrise doesn't last all morning. \\ A cloudburst doesn't last all day \\ Seems my love is up and has left you with no warning \\ It's not always going to be this grey \\ All things must pass \\ All things must pass away\"\n",
        "prompt2 = \"When you were young and your heart was an open book \\ You used to say live and let live \\ (You know you did, you know you did, you know you did) \\ But if this ever changing world in which we're living \\ Makes you give in and cry \\ Say live and let die \\ (Live and let die) \\ Live and let die \\ (Live and let die)\"\n",
        "prompt3 = \"Imagine there's no heaven \\ It's easy if you try\\ No hell below us \\ Above us only sky \\ Imagine all the people living for today \\ Imagine there's no countries \\ It isn't hard to do \\ Nothing to kill or die for \\ And no religion too \\ Imagine all the people living life in peace, you \\ You may say I'm a dreamer \\ But I'm not the only one \\ I hope some day you'll join us \\ And the world will be as one\"\n",
        "print(data_clas.classes[learn.predict(prompt1)[1]])\n",
        "print(data_clas.classes[learn.predict(prompt2)[1]])\n",
        "print(data_clas.classes[learn.predict(prompt3)[1]])"
      ],
      "execution_count": 67,
      "outputs": [
        {
          "output_type": "stream",
          "text": [
            "Harrison\n",
            "Lennon\n",
            "Lennon\n"
          ],
          "name": "stdout"
        }
      ]
    },
    {
      "cell_type": "code",
      "metadata": {
        "id": "1TS-N5NeCBU0",
        "colab_type": "code",
        "colab": {
          "base_uri": "https://localhost:8080/",
          "height": 258
        },
        "outputId": "5f029f83-4a39-4f40-bb27-8aba8e129dc3"
      },
      "source": [
        "ci.show_intrinsic_attention(prompt1)\n",
        "ci.show_intrinsic_attention(prompt2)\n",
        "ci.show_intrinsic_attention(prompt3)"
      ],
      "execution_count": 69,
      "outputs": [
        {
          "output_type": "stream",
          "text": [
            "/pytorch/aten/src/ATen/native/cuda/LegacyDefinitions.cpp:19: UserWarning: masked_fill_ received a mask with dtype torch.uint8, this behavior is now deprecated,please use a mask with dtype torch.bool instead.\n",
            "/pytorch/aten/src/ATen/native/cuda/LegacyDefinitions.cpp:19: UserWarning: masked_fill_ received a mask with dtype torch.uint8, this behavior is now deprecated,please use a mask with dtype torch.bool instead.\n"
          ],
          "name": "stderr"
        },
        {
          "output_type": "display_data",
          "data": {
            "text/html": [
              "<span style=\"font-family: monospace;\"><span title=\"0.717\" style=\"background-color: rgba(154, 212, 104, 0.5);\">xxbos</span> <span title=\"0.329\" style=\"background-color: rgba(253, 188, 109, 0.5);\">xxmaj</span> <span title=\"0.907\" style=\"background-color: rgba(23, 147, 77, 0.5);\">xxunk</span> <span title=\"0.905\" style=\"background-color: rgba(24, 149, 78, 0.5);\">does</span> <span title=\"0.680\" style=\"background-color: rgba(175, 220, 111, 0.5);\">n&#x27;t</span> <span title=\"0.557\" style=\"background-color: rgba(233, 245, 161, 0.5);\">last</span> <span title=\"0.211\" style=\"background-color: rgba(244, 114, 69, 0.5);\">all</span> <span title=\"0.511\" style=\"background-color: rgba(251, 253, 185, 0.5);\">morning</span> <span title=\"0.111\" style=\"background-color: rgba(217, 53, 41, 0.5);\">.</span> <span title=\"0.230\" style=\"background-color: rgba(246, 126, 75, 0.5);\">\\</span> <span title=\"0.191\" style=\"background-color: rgba(240, 101, 63, 0.5);\">a</span> <span title=\"0.348\" style=\"background-color: rgba(253, 198, 117, 0.5);\">xxunk</span> <span title=\"0.410\" style=\"background-color: rgba(254, 227, 145, 0.5);\">does</span> <span title=\"0.296\" style=\"background-color: rgba(252, 170, 95, 0.5);\">n&#x27;t</span> <span title=\"0.307\" style=\"background-color: rgba(253, 176, 99, 0.5);\">last</span> <span title=\"0.162\" style=\"background-color: rgba(232, 85, 56, 0.5);\">all</span> <span title=\"0.301\" style=\"background-color: rgba(253, 174, 97, 0.5);\">day</span> <span title=\"0.235\" style=\"background-color: rgba(247, 131, 77, 0.5);\">\\</span> <span title=\"0.123\" style=\"background-color: rgba(221, 61, 45, 0.5);\">xxmaj</span> <span title=\"1.000\" style=\"background-color: rgba(0, 104, 55, 0.5);\">seems</span> <span title=\"0.433\" style=\"background-color: rgba(254, 233, 155, 0.5);\">my</span> <span title=\"0.393\" style=\"background-color: rgba(253, 220, 135, 0.5);\">love</span> <span title=\"0.215\" style=\"background-color: rgba(245, 116, 70, 0.5);\">is</span> <span title=\"0.384\" style=\"background-color: rgba(253, 216, 132, 0.5);\">up</span> <span title=\"0.174\" style=\"background-color: rgba(236, 92, 59, 0.5);\">and</span> <span title=\"0.193\" style=\"background-color: rgba(241, 104, 64, 0.5);\">has</span> <span title=\"0.368\" style=\"background-color: rgba(253, 208, 125, 0.5);\">left</span> <span title=\"0.169\" style=\"background-color: rgba(234, 89, 58, 0.5);\">you</span> <span title=\"0.137\" style=\"background-color: rgba(225, 70, 49, 0.5);\">with</span> <span title=\"0.223\" style=\"background-color: rgba(246, 124, 74, 0.5);\">no</span> <span title=\"0.126\" style=\"background-color: rgba(222, 63, 46, 0.5);\">xxunk</span> <span title=\"0.131\" style=\"background-color: rgba(223, 65, 47, 0.5);\">\\</span> <span title=\"0.068\" style=\"background-color: rgba(198, 32, 38, 0.5);\">xxmaj</span> <span title=\"0.139\" style=\"background-color: rgba(225, 70, 49, 0.5);\">it</span> <span title=\"0.143\" style=\"background-color: rgba(226, 73, 50, 0.5);\">&#x27;s</span> <span title=\"0.217\" style=\"background-color: rgba(245, 119, 71, 0.5);\">not</span> <span title=\"0.324\" style=\"background-color: rgba(253, 184, 106, 0.5);\">always</span> <span title=\"0.352\" style=\"background-color: rgba(253, 200, 119, 0.5);\">going</span> <span title=\"0.157\" style=\"background-color: rgba(231, 82, 54, 0.5);\">to</span> <span title=\"0.330\" style=\"background-color: rgba(253, 188, 109, 0.5);\">be</span> <span title=\"0.170\" style=\"background-color: rgba(234, 89, 58, 0.5);\">this</span> <span title=\"0.098\" style=\"background-color: rgba(214, 47, 38, 0.5);\">xxunk</span> <span title=\"0.104\" style=\"background-color: rgba(215, 49, 39, 0.5);\">\\</span> <span title=\"0.047\" style=\"background-color: rgba(186, 20, 38, 0.5);\">xxmaj</span> <span title=\"0.221\" style=\"background-color: rgba(245, 121, 72, 0.5);\">all</span> <span title=\"0.499\" style=\"background-color: rgba(254, 254, 189, 0.5);\">things</span> <span title=\"0.359\" style=\"background-color: rgba(253, 202, 120, 0.5);\">must</span> <span title=\"0.232\" style=\"background-color: rgba(246, 129, 76, 0.5);\">pass</span> <span title=\"0.191\" style=\"background-color: rgba(240, 101, 63, 0.5);\">\\</span> <span title=\"0.110\" style=\"background-color: rgba(217, 53, 41, 0.5);\">xxmaj</span> <span title=\"0.391\" style=\"background-color: rgba(253, 220, 135, 0.5);\">all</span> <span title=\"0.867\" style=\"background-color: rgba(51, 164, 86, 0.5);\">things</span> <span title=\"0.757\" style=\"background-color: rgba(129, 201, 102, 0.5);\">must</span> <span title=\"0.637\" style=\"background-color: rgba(197, 230, 126, 0.5);\">pass</span> <span title=\"0.628\" style=\"background-color: rgba(203, 232, 129, 0.5);\">away</span></span>"
            ],
            "text/plain": [
              "<IPython.core.display.HTML object>"
            ]
          },
          "metadata": {
            "tags": []
          }
        },
        {
          "output_type": "stream",
          "text": [
            "/pytorch/aten/src/ATen/native/cuda/LegacyDefinitions.cpp:19: UserWarning: masked_fill_ received a mask with dtype torch.uint8, this behavior is now deprecated,please use a mask with dtype torch.bool instead.\n",
            "/pytorch/aten/src/ATen/native/cuda/LegacyDefinitions.cpp:19: UserWarning: masked_fill_ received a mask with dtype torch.uint8, this behavior is now deprecated,please use a mask with dtype torch.bool instead.\n"
          ],
          "name": "stderr"
        },
        {
          "output_type": "display_data",
          "data": {
            "text/html": [
              "<span style=\"font-family: monospace;\"><span title=\"0.613\" style=\"background-color: rgba(211, 236, 135, 0.5);\">xxbos</span> <span title=\"0.261\" style=\"background-color: rgba(249, 147, 84, 0.5);\">xxmaj</span> <span title=\"0.454\" style=\"background-color: rgba(254, 241, 167, 0.5);\">when</span> <span title=\"0.387\" style=\"background-color: rgba(253, 218, 134, 0.5);\">you</span> <span title=\"0.419\" style=\"background-color: rgba(254, 230, 149, 0.5);\">were</span> <span title=\"0.696\" style=\"background-color: rgba(167, 217, 106, 0.5);\">young</span> <span title=\"0.232\" style=\"background-color: rgba(246, 129, 76, 0.5);\">and</span> <span title=\"0.439\" style=\"background-color: rgba(254, 236, 159, 0.5);\">your</span> <span title=\"0.882\" style=\"background-color: rgba(39, 158, 83, 0.5);\">heart</span> <span title=\"0.216\" style=\"background-color: rgba(245, 119, 71, 0.5);\">was</span> <span title=\"0.408\" style=\"background-color: rgba(254, 226, 143, 0.5);\">an</span> <span title=\"1.000\" style=\"background-color: rgba(0, 104, 55, 0.5);\">open</span> <span title=\"0.659\" style=\"background-color: rgba(187, 226, 119, 0.5);\">book</span> <span title=\"0.176\" style=\"background-color: rgba(237, 94, 60, 0.5);\">\\</span> <span title=\"0.068\" style=\"background-color: rgba(198, 32, 38, 0.5);\">xxmaj</span> <span title=\"0.230\" style=\"background-color: rgba(246, 126, 75, 0.5);\">you</span> <span title=\"0.265\" style=\"background-color: rgba(249, 149, 85, 0.5);\">used</span> <span title=\"0.151\" style=\"background-color: rgba(229, 77, 52, 0.5);\">to</span> <span title=\"0.374\" style=\"background-color: rgba(253, 210, 127, 0.5);\">say</span> <span title=\"0.571\" style=\"background-color: rgba(227, 243, 153, 0.5);\">live</span> <span title=\"0.096\" style=\"background-color: rgba(212, 45, 38, 0.5);\">and</span> <span title=\"0.264\" style=\"background-color: rgba(249, 149, 85, 0.5);\">let</span> <span title=\"0.215\" style=\"background-color: rgba(245, 119, 71, 0.5);\">live</span> <span title=\"0.180\" style=\"background-color: rgba(237, 94, 60, 0.5);\">\\</span> <span title=\"0.166\" style=\"background-color: rgba(233, 87, 57, 0.5);\">(</span> <span title=\"0.095\" style=\"background-color: rgba(212, 45, 38, 0.5);\">xxmaj</span> <span title=\"0.166\" style=\"background-color: rgba(233, 87, 57, 0.5);\">you</span> <span title=\"0.166\" style=\"background-color: rgba(233, 87, 57, 0.5);\">know</span> <span title=\"0.105\" style=\"background-color: rgba(215, 49, 39, 0.5);\">you</span> <span title=\"0.154\" style=\"background-color: rgba(230, 80, 53, 0.5);\">did</span> <span title=\"0.042\" style=\"background-color: rgba(184, 18, 38, 0.5);\">,</span> <span title=\"0.078\" style=\"background-color: rgba(202, 35, 38, 0.5);\">you</span> <span title=\"0.073\" style=\"background-color: rgba(200, 33, 38, 0.5);\">know</span> <span title=\"0.059\" style=\"background-color: rgba(194, 28, 38, 0.5);\">you</span> <span title=\"0.085\" style=\"background-color: rgba(206, 39, 38, 0.5);\">did</span> <span title=\"0.036\" style=\"background-color: rgba(182, 16, 38, 0.5);\">,</span> <span title=\"0.060\" style=\"background-color: rgba(194, 28, 38, 0.5);\">you</span> <span title=\"0.073\" style=\"background-color: rgba(200, 33, 38, 0.5);\">know</span> <span title=\"0.062\" style=\"background-color: rgba(194, 28, 38, 0.5);\">you</span> <span title=\"0.114\" style=\"background-color: rgba(218, 56, 42, 0.5);\">did</span> <span title=\"0.051\" style=\"background-color: rgba(190, 24, 38, 0.5);\">)</span> <span title=\"0.105\" style=\"background-color: rgba(215, 49, 39, 0.5);\">\\</span> <span title=\"0.051\" style=\"background-color: rgba(190, 24, 38, 0.5);\">xxmaj</span> <span title=\"0.119\" style=\"background-color: rgba(220, 58, 43, 0.5);\">but</span> <span title=\"0.199\" style=\"background-color: rgba(242, 106, 65, 0.5);\">if</span> <span title=\"0.246\" style=\"background-color: rgba(247, 137, 79, 0.5);\">this</span> <span title=\"0.348\" style=\"background-color: rgba(253, 198, 117, 0.5);\">ever</span> <span title=\"0.182\" style=\"background-color: rgba(238, 97, 61, 0.5);\">xxunk</span> <span title=\"0.292\" style=\"background-color: rgba(252, 167, 94, 0.5);\">world</span> <span title=\"0.078\" style=\"background-color: rgba(202, 35, 38, 0.5);\">in</span> <span title=\"0.147\" style=\"background-color: rgba(228, 75, 51, 0.5);\">which</span> <span title=\"0.203\" style=\"background-color: rgba(244, 111, 68, 0.5);\">we</span> <span title=\"0.184\" style=\"background-color: rgba(239, 99, 62, 0.5);\">&#x27;re</span> <span title=\"0.292\" style=\"background-color: rgba(252, 167, 94, 0.5);\">living</span> <span title=\"0.146\" style=\"background-color: rgba(228, 75, 51, 0.5);\">\\</span> <span title=\"0.091\" style=\"background-color: rgba(210, 43, 38, 0.5);\">xxmaj</span> <span title=\"0.555\" style=\"background-color: rgba(233, 245, 161, 0.5);\">makes</span> <span title=\"0.138\" style=\"background-color: rgba(225, 70, 49, 0.5);\">you</span> <span title=\"0.219\" style=\"background-color: rgba(245, 121, 72, 0.5);\">give</span> <span title=\"0.099\" style=\"background-color: rgba(214, 47, 38, 0.5);\">in</span> <span title=\"0.095\" style=\"background-color: rgba(212, 45, 38, 0.5);\">and</span> <span title=\"0.159\" style=\"background-color: rgba(231, 82, 54, 0.5);\">cry</span> <span title=\"0.082\" style=\"background-color: rgba(204, 37, 38, 0.5);\">\\</span> <span title=\"0.053\" style=\"background-color: rgba(190, 24, 38, 0.5);\">xxmaj</span> <span title=\"0.355\" style=\"background-color: rgba(253, 200, 119, 0.5);\">say</span> <span title=\"0.273\" style=\"background-color: rgba(250, 154, 88, 0.5);\">live</span> <span title=\"0.067\" style=\"background-color: rgba(198, 32, 38, 0.5);\">and</span> <span title=\"0.202\" style=\"background-color: rgba(244, 109, 67, 0.5);\">let</span> <span title=\"0.296\" style=\"background-color: rgba(252, 170, 95, 0.5);\">die</span> <span title=\"0.091\" style=\"background-color: rgba(210, 43, 38, 0.5);\">\\</span> <span title=\"0.075\" style=\"background-color: rgba(202, 35, 38, 0.5);\">(</span> <span title=\"0.074\" style=\"background-color: rgba(202, 35, 38, 0.5);\">xxmaj</span> <span title=\"0.321\" style=\"background-color: rgba(253, 184, 106, 0.5);\">live</span> <span title=\"0.100\" style=\"background-color: rgba(214, 47, 38, 0.5);\">and</span> <span title=\"0.193\" style=\"background-color: rgba(241, 104, 64, 0.5);\">let</span> <span title=\"0.240\" style=\"background-color: rgba(247, 134, 78, 0.5);\">die</span> <span title=\"0.076\" style=\"background-color: rgba(202, 35, 38, 0.5);\">)</span> <span title=\"0.134\" style=\"background-color: rgba(224, 68, 48, 0.5);\">\\</span> <span title=\"0.088\" style=\"background-color: rgba(208, 41, 38, 0.5);\">xxmaj</span> <span title=\"0.549\" style=\"background-color: rgba(236, 247, 165, 0.5);\">live</span> <span title=\"0.183\" style=\"background-color: rgba(238, 97, 61, 0.5);\">and</span> <span title=\"0.440\" style=\"background-color: rgba(254, 236, 159, 0.5);\">let</span> <span title=\"0.519\" style=\"background-color: rgba(248, 252, 181, 0.5);\">die</span> <span title=\"0.272\" style=\"background-color: rgba(250, 154, 88, 0.5);\">\\</span> <span title=\"0.210\" style=\"background-color: rgba(244, 114, 69, 0.5);\">(</span> <span title=\"0.183\" style=\"background-color: rgba(238, 97, 61, 0.5);\">xxmaj</span> <span title=\"0.767\" style=\"background-color: rgba(122, 197, 101, 0.5);\">live</span> <span title=\"0.313\" style=\"background-color: rgba(253, 180, 102, 0.5);\">and</span> <span title=\"0.687\" style=\"background-color: rgba(173, 220, 110, 0.5);\">let</span> <span title=\"0.655\" style=\"background-color: rgba(189, 226, 120, 0.5);\">die</span> <span title=\"0.463\" style=\"background-color: rgba(254, 243, 171, 0.5);\">)</span></span>"
            ],
            "text/plain": [
              "<IPython.core.display.HTML object>"
            ]
          },
          "metadata": {
            "tags": []
          }
        },
        {
          "output_type": "stream",
          "text": [
            "/pytorch/aten/src/ATen/native/cuda/LegacyDefinitions.cpp:19: UserWarning: masked_fill_ received a mask with dtype torch.uint8, this behavior is now deprecated,please use a mask with dtype torch.bool instead.\n",
            "/pytorch/aten/src/ATen/native/cuda/LegacyDefinitions.cpp:19: UserWarning: masked_fill_ received a mask with dtype torch.uint8, this behavior is now deprecated,please use a mask with dtype torch.bool instead.\n"
          ],
          "name": "stderr"
        },
        {
          "output_type": "display_data",
          "data": {
            "text/html": [
              "<span style=\"font-family: monospace;\"><span title=\"0.375\" style=\"background-color: rgba(253, 212, 129, 0.5);\">xxbos</span> <span title=\"0.159\" style=\"background-color: rgba(231, 82, 54, 0.5);\">xxmaj</span> <span title=\"1.000\" style=\"background-color: rgba(0, 104, 55, 0.5);\">imagine</span> <span title=\"0.253\" style=\"background-color: rgba(248, 142, 82, 0.5);\">there</span> <span title=\"0.151\" style=\"background-color: rgba(229, 77, 52, 0.5);\">&#x27;s</span> <span title=\"0.273\" style=\"background-color: rgba(250, 154, 88, 0.5);\">no</span> <span title=\"0.671\" style=\"background-color: rgba(181, 223, 115, 0.5);\">heaven</span> <span title=\"0.089\" style=\"background-color: rgba(208, 41, 38, 0.5);\">\\</span> <span title=\"0.036\" style=\"background-color: rgba(182, 16, 38, 0.5);\">xxmaj</span> <span title=\"0.076\" style=\"background-color: rgba(202, 35, 38, 0.5);\">it</span> <span title=\"0.070\" style=\"background-color: rgba(200, 33, 38, 0.5);\">&#x27;s</span> <span title=\"0.257\" style=\"background-color: rgba(248, 144, 83, 0.5);\">easy</span> <span title=\"0.097\" style=\"background-color: rgba(212, 45, 38, 0.5);\">if</span> <span title=\"0.057\" style=\"background-color: rgba(192, 26, 38, 0.5);\">you</span> <span title=\"0.164\" style=\"background-color: rgba(232, 85, 56, 0.5);\">try</span> <span title=\"0.106\" style=\"background-color: rgba(216, 51, 40, 0.5);\">\\</span> <span title=\"0.053\" style=\"background-color: rgba(190, 24, 38, 0.5);\">xxmaj</span> <span title=\"0.203\" style=\"background-color: rgba(244, 109, 67, 0.5);\">no</span> <span title=\"0.365\" style=\"background-color: rgba(253, 206, 124, 0.5);\">hell</span> <span title=\"0.212\" style=\"background-color: rgba(245, 116, 70, 0.5);\">below</span> <span title=\"0.094\" style=\"background-color: rgba(212, 45, 38, 0.5);\">us</span> <span title=\"0.079\" style=\"background-color: rgba(204, 37, 38, 0.5);\">\\</span> <span title=\"0.033\" style=\"background-color: rgba(180, 15, 38, 0.5);\">xxmaj</span> <span title=\"0.160\" style=\"background-color: rgba(232, 85, 56, 0.5);\">above</span> <span title=\"0.123\" style=\"background-color: rgba(221, 61, 45, 0.5);\">us</span> <span title=\"0.095\" style=\"background-color: rgba(212, 45, 38, 0.5);\">only</span> <span title=\"0.193\" style=\"background-color: rgba(241, 104, 64, 0.5);\">sky</span> <span title=\"0.057\" style=\"background-color: rgba(192, 26, 38, 0.5);\">\\</span> <span title=\"0.030\" style=\"background-color: rgba(178, 13, 38, 0.5);\">xxmaj</span> <span title=\"0.225\" style=\"background-color: rgba(246, 124, 74, 0.5);\">imagine</span> <span title=\"0.089\" style=\"background-color: rgba(208, 41, 38, 0.5);\">all</span> <span title=\"0.067\" style=\"background-color: rgba(198, 32, 38, 0.5);\">the</span> <span title=\"0.102\" style=\"background-color: rgba(215, 49, 39, 0.5);\">people</span> <span title=\"0.113\" style=\"background-color: rgba(217, 53, 41, 0.5);\">living</span> <span title=\"0.042\" style=\"background-color: rgba(184, 18, 38, 0.5);\">for</span> <span title=\"0.085\" style=\"background-color: rgba(206, 39, 38, 0.5);\">today</span> <span title=\"0.056\" style=\"background-color: rgba(192, 26, 38, 0.5);\">\\</span> <span title=\"0.034\" style=\"background-color: rgba(180, 15, 38, 0.5);\">xxmaj</span> <span title=\"0.288\" style=\"background-color: rgba(251, 165, 92, 0.5);\">imagine</span> <span title=\"0.064\" style=\"background-color: rgba(196, 30, 38, 0.5);\">there</span> <span title=\"0.052\" style=\"background-color: rgba(190, 24, 38, 0.5);\">&#x27;s</span> <span title=\"0.097\" style=\"background-color: rgba(212, 45, 38, 0.5);\">no</span> <span title=\"0.083\" style=\"background-color: rgba(206, 39, 38, 0.5);\">xxunk</span> <span title=\"0.045\" style=\"background-color: rgba(186, 20, 38, 0.5);\">\\</span> <span title=\"0.026\" style=\"background-color: rgba(176, 11, 38, 0.5);\">xxmaj</span> <span title=\"0.060\" style=\"background-color: rgba(194, 28, 38, 0.5);\">it</span> <span title=\"0.062\" style=\"background-color: rgba(194, 28, 38, 0.5);\">is</span> <span title=\"0.167\" style=\"background-color: rgba(233, 87, 57, 0.5);\">n&#x27;t</span> <span title=\"0.252\" style=\"background-color: rgba(248, 142, 82, 0.5);\">hard</span> <span title=\"0.097\" style=\"background-color: rgba(212, 45, 38, 0.5);\">to</span> <span title=\"0.092\" style=\"background-color: rgba(210, 43, 38, 0.5);\">do</span> <span title=\"0.115\" style=\"background-color: rgba(218, 56, 42, 0.5);\">\\</span> <span title=\"0.092\" style=\"background-color: rgba(210, 43, 38, 0.5);\">xxmaj</span> <span title=\"0.548\" style=\"background-color: rgba(236, 247, 165, 0.5);\">nothing</span> <span title=\"0.146\" style=\"background-color: rgba(228, 75, 51, 0.5);\">to</span> <span title=\"0.175\" style=\"background-color: rgba(236, 92, 59, 0.5);\">kill</span> <span title=\"0.067\" style=\"background-color: rgba(198, 32, 38, 0.5);\">or</span> <span title=\"0.169\" style=\"background-color: rgba(234, 89, 58, 0.5);\">die</span> <span title=\"0.037\" style=\"background-color: rgba(182, 16, 38, 0.5);\">for</span> <span title=\"0.061\" style=\"background-color: rgba(194, 28, 38, 0.5);\">\\</span> <span title=\"0.035\" style=\"background-color: rgba(182, 16, 38, 0.5);\">xxmaj</span> <span title=\"0.086\" style=\"background-color: rgba(206, 39, 38, 0.5);\">and</span> <span title=\"0.170\" style=\"background-color: rgba(234, 89, 58, 0.5);\">no</span> <span title=\"0.277\" style=\"background-color: rgba(250, 157, 89, 0.5);\">religion</span> <span title=\"0.110\" style=\"background-color: rgba(217, 53, 41, 0.5);\">too</span> <span title=\"0.082\" style=\"background-color: rgba(204, 37, 38, 0.5);\">\\</span> <span title=\"0.037\" style=\"background-color: rgba(182, 16, 38, 0.5);\">xxmaj</span> <span title=\"0.275\" style=\"background-color: rgba(250, 157, 89, 0.5);\">imagine</span> <span title=\"0.105\" style=\"background-color: rgba(216, 51, 40, 0.5);\">all</span> <span title=\"0.071\" style=\"background-color: rgba(200, 33, 38, 0.5);\">the</span> <span title=\"0.132\" style=\"background-color: rgba(223, 65, 47, 0.5);\">people</span> <span title=\"0.105\" style=\"background-color: rgba(215, 49, 39, 0.5);\">living</span> <span title=\"0.095\" style=\"background-color: rgba(212, 45, 38, 0.5);\">life</span> <span title=\"0.063\" style=\"background-color: rgba(196, 30, 38, 0.5);\">in</span> <span title=\"0.236\" style=\"background-color: rgba(247, 131, 77, 0.5);\">peace</span> <span title=\"0.018\" style=\"background-color: rgba(172, 7, 38, 0.5);\">,</span> <span title=\"0.041\" style=\"background-color: rgba(184, 18, 38, 0.5);\">you</span> <span title=\"0.040\" style=\"background-color: rgba(184, 18, 38, 0.5);\">\\</span> <span title=\"0.026\" style=\"background-color: rgba(176, 11, 38, 0.5);\">xxmaj</span> <span title=\"0.066\" style=\"background-color: rgba(196, 30, 38, 0.5);\">you</span> <span title=\"0.062\" style=\"background-color: rgba(194, 28, 38, 0.5);\">may</span> <span title=\"0.101\" style=\"background-color: rgba(214, 47, 38, 0.5);\">say</span> <span title=\"0.072\" style=\"background-color: rgba(200, 33, 38, 0.5);\">i</span> <span title=\"0.133\" style=\"background-color: rgba(224, 68, 48, 0.5);\">&#x27;m</span> <span title=\"0.064\" style=\"background-color: rgba(196, 30, 38, 0.5);\">a</span> <span title=\"0.076\" style=\"background-color: rgba(202, 35, 38, 0.5);\">xxunk</span> <span title=\"0.038\" style=\"background-color: rgba(182, 16, 38, 0.5);\">\\</span> <span title=\"0.017\" style=\"background-color: rgba(172, 7, 38, 0.5);\">xxmaj</span> <span title=\"0.047\" style=\"background-color: rgba(186, 20, 38, 0.5);\">but</span> <span title=\"0.048\" style=\"background-color: rgba(188, 22, 38, 0.5);\">i</span> <span title=\"0.086\" style=\"background-color: rgba(206, 39, 38, 0.5);\">&#x27;m</span> <span title=\"0.076\" style=\"background-color: rgba(202, 35, 38, 0.5);\">not</span> <span title=\"0.046\" style=\"background-color: rgba(186, 20, 38, 0.5);\">the</span> <span title=\"0.071\" style=\"background-color: rgba(200, 33, 38, 0.5);\">only</span> <span title=\"0.041\" style=\"background-color: rgba(184, 18, 38, 0.5);\">one</span> <span title=\"0.044\" style=\"background-color: rgba(186, 20, 38, 0.5);\">\\</span> <span title=\"0.046\" style=\"background-color: rgba(186, 20, 38, 0.5);\">i</span> <span title=\"0.170\" style=\"background-color: rgba(234, 89, 58, 0.5);\">hope</span> <span title=\"0.093\" style=\"background-color: rgba(210, 43, 38, 0.5);\">some</span> <span title=\"0.098\" style=\"background-color: rgba(214, 47, 38, 0.5);\">day</span> <span title=\"0.068\" style=\"background-color: rgba(198, 32, 38, 0.5);\">you</span> <span title=\"0.124\" style=\"background-color: rgba(221, 61, 45, 0.5);\">&#x27;ll</span> <span title=\"0.244\" style=\"background-color: rgba(247, 137, 79, 0.5);\">join</span> <span title=\"0.160\" style=\"background-color: rgba(231, 82, 54, 0.5);\">us</span> <span title=\"0.147\" style=\"background-color: rgba(228, 75, 51, 0.5);\">\\</span> <span title=\"0.052\" style=\"background-color: rgba(190, 24, 38, 0.5);\">xxmaj</span> <span title=\"0.142\" style=\"background-color: rgba(226, 73, 50, 0.5);\">and</span> <span title=\"0.132\" style=\"background-color: rgba(223, 65, 47, 0.5);\">the</span> <span title=\"0.469\" style=\"background-color: rgba(254, 244, 173, 0.5);\">world</span> <span title=\"0.490\" style=\"background-color: rgba(254, 251, 185, 0.5);\">will</span> <span title=\"0.419\" style=\"background-color: rgba(254, 230, 149, 0.5);\">be</span> <span title=\"0.403\" style=\"background-color: rgba(254, 225, 141, 0.5);\">as</span> <span title=\"0.559\" style=\"background-color: rgba(231, 245, 159, 0.5);\">one</span></span>"
            ],
            "text/plain": [
              "<IPython.core.display.HTML object>"
            ]
          },
          "metadata": {
            "tags": []
          }
        }
      ]
    },
    {
      "cell_type": "code",
      "metadata": {
        "id": "mTifMK3qCNAw",
        "colab_type": "code",
        "colab": {
          "base_uri": "https://localhost:8080/",
          "height": 631
        },
        "outputId": "eaba005e-dbfc-4131-d03f-30a1d663438d"
      },
      "source": [
        "ci.plot_confusion_matrix()"
      ],
      "execution_count": 54,
      "outputs": [
        {
          "output_type": "stream",
          "text": [
            "/usr/local/lib/python3.6/dist-packages/fastai/train.py:213: UserWarning: Tight layout not applied. The bottom and top margins cannot be made large enough to accommodate all axes decorations. \n",
            "  plt.tight_layout()\n"
          ],
          "name": "stderr"
        },
        {
          "output_type": "display_data",
          "data": {
            "image/png": "[encoded data removed]",
            "text/plain": [
              "<Figure size 432x288 with 1 Axes>"
            ]
          },
          "metadata": {
            "tags": [],
            "needs_background": "light"
          }
        }
      ]
    },
    {
      "cell_type": "code",
      "metadata": {
        "id": "tB4CyddoCa6N",
        "colab_type": "code",
        "colab": {
          "base_uri": "https://localhost:8080/",
          "height": 546
        },
        "outputId": "76c39503-b839-48f5-d788-99809e2faf76"
      },
      "source": [
        "ci.show_top_losses(10)"
      ],
      "execution_count": 58,
      "outputs": [
        {
          "output_type": "display_data",
          "data": {
            "text/html": [
              "<table border=\"1\" class=\"dataframe\">\n",
              "  <thead>\n",
              "    <tr style=\"text-align: right;\">\n",
              "      <th>Text</th>\n",
              "      <th>Prediction</th>\n",
              "      <th>Actual</th>\n",
              "      <th>Loss</th>\n",
              "      <th>Probability</th>\n",
              "    </tr>\n",
              "  </thead>\n",
              "  <tbody>\n",
              "    <tr>\n",
              "      <td>xxbos xxmaj little child - xxmaj little child \\ xxmaj little child wo n't you dance with me \\ i 'm so sad and lonely \\ xxmaj baby take a chance with me \\ xxmaj little child - xxmaj little child \\ xxmaj little child wo n't you dance with me \\ i 'm so sad and lonely \\ xxmaj baby take a chance with me \\ xxmaj if you</td>\n",
              "      <td>Chuck Berry</td>\n",
              "      <td>Lennon &amp; McCartney</td>\n",
              "      <td>4.28</td>\n",
              "      <td>0.01</td>\n",
              "    </tr>\n",
              "    <tr>\n",
              "      <td>xxbos xxmaj people say i 'm crazy doing what i 'm doing , \\ xxmaj well they give me all kinds of xxunk to save me from xxunk , \\ xxmaj when i say that i 'm xxunk . they look at me kind of strange , \\ xxmaj xxunk your not happy now you no longer play the game , \\ xxmaj people say i 'm lazy dreaming my</td>\n",
              "      <td>Harrison</td>\n",
              "      <td>Lennon</td>\n",
              "      <td>4.08</td>\n",
              "      <td>0.02</td>\n",
              "    </tr>\n",
              "    <tr>\n",
              "      <td>xxbos xxmaj love , xxwrep 5 love , \\ love , love , love \\ xxmaj there 's nothing you can do that ca n't be done \\ xxmaj nothing you can sing that ca n't be xxunk \\ xxmaj nothing you can say but you learn how to play the game . \\ xxmaj it 's easy \\ xxmaj all you need is love \\ xxmaj all you need</td>\n",
              "      <td>Harrison</td>\n",
              "      <td>Lennon &amp; McCartney</td>\n",
              "      <td>3.88</td>\n",
              "      <td>0.02</td>\n",
              "    </tr>\n",
              "    <tr>\n",
              "      <td>xxbos xxmaj ah , xxmaj look at all the lonely people . \\ xxmaj xxunk xxmaj xxunk picks up the xxunk in the church \\ xxmaj where a xxunk has been xxmaj lives in a dream \\ xxmaj waits at the window , wearing the face that she keeps in a jar by the door . xxmaj who is it for ? \\ xxmaj all the lonely people , where</td>\n",
              "      <td>Harrison</td>\n",
              "      <td>Lennon &amp; McCartney</td>\n",
              "      <td>3.74</td>\n",
              "      <td>0.02</td>\n",
              "    </tr>\n",
              "    <tr>\n",
              "      <td>xxbos xxmaj free xxmaj as a xxmaj bird , \\ xxmaj it 's the next best thing to be free as a bird . \\ xxmaj home , home and xxunk \\ xxmaj like a xxunk bird i fly , as a bird on wings \\ xxmaj whatever happened to the life that we once knew \\ xxmaj can we really live without each other \\ xxmaj where did we</td>\n",
              "      <td>Harrison</td>\n",
              "      <td>Lennon/McCartney/Harrison/Starkey</td>\n",
              "      <td>3.58</td>\n",
              "      <td>0.03</td>\n",
              "    </tr>\n",
              "    <tr>\n",
              "      <td>xxbos xxmaj well how can you say you will when you wo n't , \\ xxmaj say you do , baby , when you do n't ? \\ xxmaj tell the truth now , is love real ? \\ xxmaj but oh well honey do n't , well honey do n't , \\ xxmaj honey do n't , honey do n't , honey do n't \\ i say you will</td>\n",
              "      <td>Chuck Berry</td>\n",
              "      <td>Perkins</td>\n",
              "      <td>3.35</td>\n",
              "      <td>0.03</td>\n",
              "    </tr>\n",
              "    <tr>\n",
              "      <td>xxbos xxmaj angela , they put you in \\ xxunk \\ xxmaj angela , they shot down \\ your man \\ xxmaj angela , xxunk one of the \\ xxunk of xxunk \\ prisioners in the world . \\ xxmaj sister , xxunk wind that \\n  ever xxunk \\ xxmaj sister , xxunk breathing \\ together \\ xxmaj sister , our loves and xxunk \\ forever keep \\ on</td>\n",
              "      <td>Yoko Ono</td>\n",
              "      <td>Lennon &amp; Yoko Ono</td>\n",
              "      <td>3.30</td>\n",
              "      <td>0.04</td>\n",
              "    </tr>\n",
              "    <tr>\n",
              "      <td>xxbos xxmaj it feels so right now \\ xxmaj hold me tight \\ xxmaj tell me i 'm the only one \\ xxmaj and then i might \\ xxmaj never be the lonely one . \\ xxmaj so hold me tight tonight , tonight it 's you \\ xxmaj you , you , you - oo - oo - oo oo \\ xxmaj hold me tight \\ xxmaj let me</td>\n",
              "      <td>Gene Vincent/Sheriff Tex Davis</td>\n",
              "      <td>Lennon &amp; McCartney</td>\n",
              "      <td>3.25</td>\n",
              "      <td>0.04</td>\n",
              "    </tr>\n",
              "    <tr>\n",
              "      <td>xxbos ( as recorded by the xxunk with xxunk xxunk ) \\ xxmaj one and one is two , \\ xxmaj what am i to do \\ xxmaj now that i ’m in love with you ? \\ i ’m hoping ev´ry day , \\ i ’m gon na hear you say , \\ xxmaj you really make my wish come true . \\ xxmaj ca n't you feel when</td>\n",
              "      <td>Yoko Ono</td>\n",
              "      <td>Lennon &amp; McCartney</td>\n",
              "      <td>3.21</td>\n",
              "      <td>0.04</td>\n",
              "    </tr>\n",
              "    <tr>\n",
              "      <td>xxbos xxmaj good xxmaj day xxmaj sunshine , xxmaj good xxmaj day xxmaj sunshine , xxmaj good xxmaj day xxmaj sunshine , \\ i need to laugh , and when the sun is out \\ i 've got something i can xxunk about i feel good \\ xxmaj in a special way , i 'm in love and it 's a sunny day . \\ xxmaj good xxmaj day xxmaj</td>\n",
              "      <td>Yoko Ono</td>\n",
              "      <td>Lennon &amp; McCartney</td>\n",
              "      <td>3.12</td>\n",
              "      <td>0.04</td>\n",
              "    </tr>\n",
              "  </tbody>\n",
              "</table>"
            ],
            "text/plain": [
              "<IPython.core.display.HTML object>"
            ]
          },
          "metadata": {
            "tags": []
          }
        }
      ]
    }
  ]
}